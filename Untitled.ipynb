{
 "cells": [
  {
   "cell_type": "code",
   "execution_count": 1,
   "id": "a11c687a",
   "metadata": {},
   "outputs": [
    {
     "name": "stdout",
     "output_type": "stream",
     "text": [
      "Collecting https://github.com/lukasbolay/ci42lyry.git\n",
      "  Downloading https://github.com/lukasbolay/ci42lyry.git\n",
      "\u001b[K     - 171 kB 456 kB/s\n",
      "\u001b[31m  ERROR: Cannot unpack file /private/var/folders/rs/8bqmtkms0916f66369s7txd00000gn/T/pip-unpack-fi76rf96/ci42lyry.git (downloaded from /private/var/folders/rs/8bqmtkms0916f66369s7txd00000gn/T/pip-req-build-so27mict, content-type: text/html; charset=utf-8); cannot detect archive format\u001b[0m\n",
      "\u001b[31mERROR: Cannot determine archive format of /private/var/folders/rs/8bqmtkms0916f66369s7txd00000gn/T/pip-req-build-so27mict\u001b[0m\n",
      "\u001b[?25h"
     ]
    }
   ],
   "source": [
    "! pip install git https://github.com/lukasbolay/ci42lyry.git\n"
   ]
  },
  {
   "cell_type": "code",
   "execution_count": null,
   "id": "47cd250c",
   "metadata": {},
   "outputs": [],
   "source": []
  }
 ],
 "metadata": {
  "kernelspec": {
   "display_name": "myvenv",
   "language": "python",
   "name": "myvenv"
  },
  "language_info": {
   "codemirror_mode": {
    "name": "ipython",
    "version": 3
   },
   "file_extension": ".py",
   "mimetype": "text/x-python",
   "name": "python",
   "nbconvert_exporter": "python",
   "pygments_lexer": "ipython3",
   "version": "3.8.8"
  }
 },
 "nbformat": 4,
 "nbformat_minor": 5
}
