{
 "cells": [
  {
   "cell_type": "code",
   "execution_count": null,
   "id": "e804ef3e",
   "metadata": {},
   "outputs": [],
   "source": [
    "from .function import *"
   ]
  },
  {
   "cell_type": "code",
   "execution_count": null,
   "id": "b2484c81",
   "metadata": {},
   "outputs": [],
   "source": [
    "import numpy as np\n",
    "   from ipywidgets import interact, fixed\n",
    " from PIL import Image\n",
    " def imshow(X, resize=None):\n",
    " \"\"\"\n",
    " You should create a way to resize an image from an array X.\n",
    " The use of widgets is optional but you can take a look to interact.\n",
    "We should be able to install this package in Google Colab from your Git\n",
    " repo.\n",
    " \"\"\"\n",
    " pass"
   ]
  },
  {
   "cell_type": "code",
   "execution_count": null,
   "id": "5ab9f2a4",
   "metadata": {},
   "outputs": [],
   "source": [
    "from distutils.core import setup\n",
    "from setuptools import find_packages\n",
    "setup(name='ci42lyry',\n",
    "      version='0.1',\n",
    "      author='Lukas Bolay',\n",
    "      author_email='lukas.bolay@fau.de',\n",
    "      packages=find_packages(),\n",
    "      install_requires=['numpy', 'Pillow', 'ipywidgets'])"
   ]
  }
 ],
 "metadata": {
  "kernelspec": {
   "display_name": "myvenv",
   "language": "python",
   "name": "myvenv"
  },
  "language_info": {
   "codemirror_mode": {
    "name": "ipython",
    "version": 3
   },
   "file_extension": ".py",
   "mimetype": "text/x-python",
   "name": "python",
   "nbconvert_exporter": "python",
   "pygments_lexer": "ipython3",
   "version": "3.8.8"
  }
 },
 "nbformat": 4,
 "nbformat_minor": 5
}
