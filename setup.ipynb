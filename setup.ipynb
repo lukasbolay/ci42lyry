{
 "cells": [
  {
   "cell_type": "code",
   "execution_count": null,
   "id": "b93c06ca",
   "metadata": {},
   "outputs": [],
   "source": [
    "from distutils.core import setup\n",
    "from setuptools import find_packages\n",
    "setup(name='ci42lyry',\n",
    "      version='0.1',\n",
    "      author='Lukas Bolay',\n",
    "      author_email='lukas.bolay@fau.de',\n",
    "      packages=find_packages(),\n",
    "      install_requires=['numpy', 'Pillow', 'ipywidgets'])"
   ]
  }
 ],
 "metadata": {
  "kernelspec": {
   "display_name": "myvenv",
   "language": "python",
   "name": "myvenv"
  },
  "language_info": {
   "codemirror_mode": {
    "name": "ipython",
    "version": 3
   },
   "file_extension": ".py",
   "mimetype": "text/x-python",
   "name": "python",
   "nbconvert_exporter": "python",
   "pygments_lexer": "ipython3",
   "version": "3.8.8"
  }
 },
 "nbformat": 4,
 "nbformat_minor": 5
}
