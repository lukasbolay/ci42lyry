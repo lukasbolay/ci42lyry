{
 "cells": [
  {
   "cell_type": "code",
   "execution_count": null,
   "id": "e08d56fa",
   "metadata": {},
   "outputs": [],
   "source": [
    "from .function import *"
   ]
  },
  {
   "cell_type": "code",
   "execution_count": null,
   "id": "05c2be39",
   "metadata": {},
   "outputs": [],
   "source": [
    "import numpy as np\n",
    "   from ipywidgets import interact, fixed\n",
    " from PIL import Image\n",
    " def imshow(X, resize=None):\n",
    " \"\"\"\n",
    " You should create a way to resize an image from an array X.\n",
    " The use of widgets is optional but you can take a look to interact.\n",
    "We should be able to install this package in Google Colab from your Git\n",
    " repo.\n",
    " \"\"\"\n",
    " pass"
   ]
  }
 ],
 "metadata": {
  "kernelspec": {
   "display_name": "myvenv",
   "language": "python",
   "name": "myvenv"
  },
  "language_info": {
   "codemirror_mode": {
    "name": "ipython",
    "version": 3
   },
   "file_extension": ".py",
   "mimetype": "text/x-python",
   "name": "python",
   "nbconvert_exporter": "python",
   "pygments_lexer": "ipython3",
   "version": "3.8.8"
  }
 },
 "nbformat": 4,
 "nbformat_minor": 5
}
